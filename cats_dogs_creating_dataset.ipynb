{
 "cells": [
  {
   "cell_type": "code",
   "execution_count": 102,
   "id": "cc414a44-d7d8-4234-851e-40547a3587a0",
   "metadata": {},
   "outputs": [],
   "source": [
    "import cv2,os\n",
    "import numpy as np"
   ]
  },
  {
   "cell_type": "code",
   "execution_count": 50,
   "id": "57028cbe-7a40-421b-88d4-86411d31cf3f",
   "metadata": {},
   "outputs": [
    {
     "name": "stdout",
     "output_type": "stream",
     "text": [
      "['Cat', 'Dog']\n",
      "[0 1]\n",
      "{'Cat': 0, 'Dog': 1}\n"
     ]
    }
   ],
   "source": [
    "datapath=r\"C:\\Users\\Sandalika\\Downloads\\OneDrive_2024-07-22\\Day 05\\kagglecatsanddogs_5340\\PetImages\"\n",
    "\n",
    "#this takes subfolders,files inside the datapath\n",
    "categories=os.listdir(datapath)\n",
    "print(categories)\n",
    "\n",
    "#arange-creating sequences of numbers\n",
    "labels=np.arange(len(categories))\n",
    "print(labels)\n",
    "\n",
    "#put the label and category into a dictionary.\n",
    "label_dict=dict(zip(categories,labels))\n",
    "print(label_dict)"
   ]
  },
  {
   "cell_type": "code",
   "execution_count": 52,
   "id": "5c282135-a081-477f-bae9-11ebf83b2290",
   "metadata": {},
   "outputs": [
    {
     "name": "stdout",
     "output_type": "stream",
     "text": [
      "C:\\Users\\Sandalika\\Downloads\\OneDrive_2024-07-22\\Day 05\\kagglecatsanddogs_5340\\PetImages\\Cat\n",
      "C:\\Users\\Sandalika\\Downloads\\OneDrive_2024-07-22\\Day 05\\kagglecatsanddogs_5340\\PetImages\\Cat\\10125.jpg OpenCV(4.10.0) D:\\a\\opencv-python\\opencv-python\\opencv\\modules\\imgproc\\src\\color.cpp:196: error: (-215:Assertion failed) !_src.empty() in function 'cv::cvtColor'\n",
      "\n",
      "C:\\Users\\Sandalika\\Downloads\\OneDrive_2024-07-22\\Day 05\\kagglecatsanddogs_5340\\PetImages\\Cat\\10404.jpg OpenCV(4.10.0) D:\\a\\opencv-python\\opencv-python\\opencv\\modules\\imgproc\\src\\color.cpp:196: error: (-215:Assertion failed) !_src.empty() in function 'cv::cvtColor'\n",
      "\n",
      "C:\\Users\\Sandalika\\Downloads\\OneDrive_2024-07-22\\Day 05\\kagglecatsanddogs_5340\\PetImages\\Cat\\10501.jpg OpenCV(4.10.0) D:\\a\\opencv-python\\opencv-python\\opencv\\modules\\imgproc\\src\\color.cpp:196: error: (-215:Assertion failed) !_src.empty() in function 'cv::cvtColor'\n",
      "\n",
      "C:\\Users\\Sandalika\\Downloads\\OneDrive_2024-07-22\\Day 05\\kagglecatsanddogs_5340\\PetImages\\Cat\\10820.jpg OpenCV(4.10.0) D:\\a\\opencv-python\\opencv-python\\opencv\\modules\\imgproc\\src\\color.cpp:196: error: (-215:Assertion failed) !_src.empty() in function 'cv::cvtColor'\n",
      "\n",
      "C:\\Users\\Sandalika\\Downloads\\OneDrive_2024-07-22\\Day 05\\kagglecatsanddogs_5340\\PetImages\\Cat\\11210.jpg OpenCV(4.10.0) D:\\a\\opencv-python\\opencv-python\\opencv\\modules\\imgproc\\src\\color.cpp:196: error: (-215:Assertion failed) !_src.empty() in function 'cv::cvtColor'\n",
      "\n",
      "C:\\Users\\Sandalika\\Downloads\\OneDrive_2024-07-22\\Day 05\\kagglecatsanddogs_5340\\PetImages\\Cat\\11565.jpg OpenCV(4.10.0) D:\\a\\opencv-python\\opencv-python\\opencv\\modules\\imgproc\\src\\color.cpp:196: error: (-215:Assertion failed) !_src.empty() in function 'cv::cvtColor'\n",
      "\n",
      "C:\\Users\\Sandalika\\Downloads\\OneDrive_2024-07-22\\Day 05\\kagglecatsanddogs_5340\\PetImages\\Cat\\11874.jpg OpenCV(4.10.0) D:\\a\\opencv-python\\opencv-python\\opencv\\modules\\imgproc\\src\\color.cpp:196: error: (-215:Assertion failed) !_src.empty() in function 'cv::cvtColor'\n",
      "\n",
      "C:\\Users\\Sandalika\\Downloads\\OneDrive_2024-07-22\\Day 05\\kagglecatsanddogs_5340\\PetImages\\Cat\\11935.jpg OpenCV(4.10.0) D:\\a\\opencv-python\\opencv-python\\opencv\\modules\\imgproc\\src\\color.cpp:196: error: (-215:Assertion failed) !_src.empty() in function 'cv::cvtColor'\n",
      "\n",
      "C:\\Users\\Sandalika\\Downloads\\OneDrive_2024-07-22\\Day 05\\kagglecatsanddogs_5340\\PetImages\\Cat\\140.jpg OpenCV(4.10.0) D:\\a\\opencv-python\\opencv-python\\opencv\\modules\\imgproc\\src\\color.cpp:196: error: (-215:Assertion failed) !_src.empty() in function 'cv::cvtColor'\n",
      "\n",
      "C:\\Users\\Sandalika\\Downloads\\OneDrive_2024-07-22\\Day 05\\kagglecatsanddogs_5340\\PetImages\\Cat\\2663.jpg OpenCV(4.10.0) D:\\a\\opencv-python\\opencv-python\\opencv\\modules\\imgproc\\src\\color.cpp:196: error: (-215:Assertion failed) !_src.empty() in function 'cv::cvtColor'\n",
      "\n",
      "C:\\Users\\Sandalika\\Downloads\\OneDrive_2024-07-22\\Day 05\\kagglecatsanddogs_5340\\PetImages\\Cat\\3300.jpg OpenCV(4.10.0) D:\\a\\opencv-python\\opencv-python\\opencv\\modules\\imgproc\\src\\color.cpp:196: error: (-215:Assertion failed) !_src.empty() in function 'cv::cvtColor'\n",
      "\n",
      "C:\\Users\\Sandalika\\Downloads\\OneDrive_2024-07-22\\Day 05\\kagglecatsanddogs_5340\\PetImages\\Cat\\3491.jpg OpenCV(4.10.0) D:\\a\\opencv-python\\opencv-python\\opencv\\modules\\imgproc\\src\\color.cpp:196: error: (-215:Assertion failed) !_src.empty() in function 'cv::cvtColor'\n",
      "\n",
      "C:\\Users\\Sandalika\\Downloads\\OneDrive_2024-07-22\\Day 05\\kagglecatsanddogs_5340\\PetImages\\Cat\\4833.jpg OpenCV(4.10.0) D:\\a\\opencv-python\\opencv-python\\opencv\\modules\\imgproc\\src\\color.cpp:196: error: (-215:Assertion failed) !_src.empty() in function 'cv::cvtColor'\n",
      "\n",
      "C:\\Users\\Sandalika\\Downloads\\OneDrive_2024-07-22\\Day 05\\kagglecatsanddogs_5340\\PetImages\\Cat\\5553.jpg OpenCV(4.10.0) D:\\a\\opencv-python\\opencv-python\\opencv\\modules\\imgproc\\src\\color.cpp:196: error: (-215:Assertion failed) !_src.empty() in function 'cv::cvtColor'\n",
      "\n",
      "C:\\Users\\Sandalika\\Downloads\\OneDrive_2024-07-22\\Day 05\\kagglecatsanddogs_5340\\PetImages\\Cat\\660.jpg OpenCV(4.10.0) D:\\a\\opencv-python\\opencv-python\\opencv\\modules\\imgproc\\src\\color.cpp:196: error: (-215:Assertion failed) !_src.empty() in function 'cv::cvtColor'\n",
      "\n",
      "C:\\Users\\Sandalika\\Downloads\\OneDrive_2024-07-22\\Day 05\\kagglecatsanddogs_5340\\PetImages\\Cat\\666.jpg OpenCV(4.10.0) D:\\a\\opencv-python\\opencv-python\\opencv\\modules\\imgproc\\src\\color.cpp:196: error: (-215:Assertion failed) !_src.empty() in function 'cv::cvtColor'\n",
      "\n",
      "C:\\Users\\Sandalika\\Downloads\\OneDrive_2024-07-22\\Day 05\\kagglecatsanddogs_5340\\PetImages\\Cat\\7968.jpg OpenCV(4.10.0) D:\\a\\opencv-python\\opencv-python\\opencv\\modules\\imgproc\\src\\color.cpp:196: error: (-215:Assertion failed) !_src.empty() in function 'cv::cvtColor'\n",
      "\n",
      "C:\\Users\\Sandalika\\Downloads\\OneDrive_2024-07-22\\Day 05\\kagglecatsanddogs_5340\\PetImages\\Cat\\7978.jpg OpenCV(4.10.0) D:\\a\\opencv-python\\opencv-python\\opencv\\modules\\imgproc\\src\\color.cpp:196: error: (-215:Assertion failed) !_src.empty() in function 'cv::cvtColor'\n",
      "\n",
      "C:\\Users\\Sandalika\\Downloads\\OneDrive_2024-07-22\\Day 05\\kagglecatsanddogs_5340\\PetImages\\Cat\\8470.jpg OpenCV(4.10.0) D:\\a\\opencv-python\\opencv-python\\opencv\\modules\\imgproc\\src\\color.cpp:196: error: (-215:Assertion failed) !_src.empty() in function 'cv::cvtColor'\n",
      "\n",
      "C:\\Users\\Sandalika\\Downloads\\OneDrive_2024-07-22\\Day 05\\kagglecatsanddogs_5340\\PetImages\\Cat\\850.jpg OpenCV(4.10.0) D:\\a\\opencv-python\\opencv-python\\opencv\\modules\\imgproc\\src\\color.cpp:196: error: (-215:Assertion failed) !_src.empty() in function 'cv::cvtColor'\n",
      "\n",
      "C:\\Users\\Sandalika\\Downloads\\OneDrive_2024-07-22\\Day 05\\kagglecatsanddogs_5340\\PetImages\\Cat\\9171.jpg OpenCV(4.10.0) D:\\a\\opencv-python\\opencv-python\\opencv\\modules\\imgproc\\src\\color.cpp:196: error: (-215:Assertion failed) !_src.empty() in function 'cv::cvtColor'\n",
      "\n",
      "C:\\Users\\Sandalika\\Downloads\\OneDrive_2024-07-22\\Day 05\\kagglecatsanddogs_5340\\PetImages\\Cat\\936.jpg OpenCV(4.10.0) D:\\a\\opencv-python\\opencv-python\\opencv\\modules\\imgproc\\src\\color.cpp:196: error: (-215:Assertion failed) !_src.empty() in function 'cv::cvtColor'\n",
      "\n",
      "C:\\Users\\Sandalika\\Downloads\\OneDrive_2024-07-22\\Day 05\\kagglecatsanddogs_5340\\PetImages\\Cat\\9565.jpg OpenCV(4.10.0) D:\\a\\opencv-python\\opencv-python\\opencv\\modules\\imgproc\\src\\color.cpp:196: error: (-215:Assertion failed) !_src.empty() in function 'cv::cvtColor'\n",
      "\n",
      "C:\\Users\\Sandalika\\Downloads\\OneDrive_2024-07-22\\Day 05\\kagglecatsanddogs_5340\\PetImages\\Cat\\9778.jpg OpenCV(4.10.0) D:\\a\\opencv-python\\opencv-python\\opencv\\modules\\imgproc\\src\\color.cpp:196: error: (-215:Assertion failed) !_src.empty() in function 'cv::cvtColor'\n",
      "\n",
      "C:\\Users\\Sandalika\\Downloads\\OneDrive_2024-07-22\\Day 05\\kagglecatsanddogs_5340\\PetImages\\Cat\\Thumbs.db OpenCV(4.10.0) D:\\a\\opencv-python\\opencv-python\\opencv\\modules\\imgproc\\src\\color.cpp:196: error: (-215:Assertion failed) !_src.empty() in function 'cv::cvtColor'\n",
      "\n",
      "C:\\Users\\Sandalika\\Downloads\\OneDrive_2024-07-22\\Day 05\\kagglecatsanddogs_5340\\PetImages\\Dog\n",
      "C:\\Users\\Sandalika\\Downloads\\OneDrive_2024-07-22\\Day 05\\kagglecatsanddogs_5340\\PetImages\\Dog\\10158.jpg OpenCV(4.10.0) D:\\a\\opencv-python\\opencv-python\\opencv\\modules\\imgproc\\src\\color.cpp:196: error: (-215:Assertion failed) !_src.empty() in function 'cv::cvtColor'\n",
      "\n",
      "C:\\Users\\Sandalika\\Downloads\\OneDrive_2024-07-22\\Day 05\\kagglecatsanddogs_5340\\PetImages\\Dog\\10401.jpg OpenCV(4.10.0) D:\\a\\opencv-python\\opencv-python\\opencv\\modules\\imgproc\\src\\color.cpp:196: error: (-215:Assertion failed) !_src.empty() in function 'cv::cvtColor'\n",
      "\n",
      "C:\\Users\\Sandalika\\Downloads\\OneDrive_2024-07-22\\Day 05\\kagglecatsanddogs_5340\\PetImages\\Dog\\10747.jpg OpenCV(4.10.0) D:\\a\\opencv-python\\opencv-python\\opencv\\modules\\imgproc\\src\\color.cpp:196: error: (-215:Assertion failed) !_src.empty() in function 'cv::cvtColor'\n",
      "\n",
      "C:\\Users\\Sandalika\\Downloads\\OneDrive_2024-07-22\\Day 05\\kagglecatsanddogs_5340\\PetImages\\Dog\\10797.jpg OpenCV(4.10.0) D:\\a\\opencv-python\\opencv-python\\opencv\\modules\\imgproc\\src\\color.cpp:196: error: (-215:Assertion failed) !_src.empty() in function 'cv::cvtColor'\n",
      "\n",
      "C:\\Users\\Sandalika\\Downloads\\OneDrive_2024-07-22\\Day 05\\kagglecatsanddogs_5340\\PetImages\\Dog\\11410.jpg OpenCV(4.10.0) D:\\a\\opencv-python\\opencv-python\\opencv\\modules\\imgproc\\src\\color.cpp:196: error: (-215:Assertion failed) !_src.empty() in function 'cv::cvtColor'\n",
      "\n",
      "C:\\Users\\Sandalika\\Downloads\\OneDrive_2024-07-22\\Day 05\\kagglecatsanddogs_5340\\PetImages\\Dog\\11675.jpg OpenCV(4.10.0) D:\\a\\opencv-python\\opencv-python\\opencv\\modules\\imgproc\\src\\color.cpp:196: error: (-215:Assertion failed) !_src.empty() in function 'cv::cvtColor'\n",
      "\n",
      "C:\\Users\\Sandalika\\Downloads\\OneDrive_2024-07-22\\Day 05\\kagglecatsanddogs_5340\\PetImages\\Dog\\11702.jpg OpenCV(4.10.0) D:\\a\\opencv-python\\opencv-python\\opencv\\modules\\imgproc\\src\\color.cpp:196: error: (-215:Assertion failed) !_src.empty() in function 'cv::cvtColor'\n",
      "\n",
      "C:\\Users\\Sandalika\\Downloads\\OneDrive_2024-07-22\\Day 05\\kagglecatsanddogs_5340\\PetImages\\Dog\\11849.jpg OpenCV(4.10.0) D:\\a\\opencv-python\\opencv-python\\opencv\\modules\\imgproc\\src\\color.cpp:196: error: (-215:Assertion failed) !_src.empty() in function 'cv::cvtColor'\n",
      "\n",
      "C:\\Users\\Sandalika\\Downloads\\OneDrive_2024-07-22\\Day 05\\kagglecatsanddogs_5340\\PetImages\\Dog\\11853.jpg OpenCV(4.10.0) D:\\a\\opencv-python\\opencv-python\\opencv\\modules\\imgproc\\src\\color.cpp:196: error: (-215:Assertion failed) !_src.empty() in function 'cv::cvtColor'\n",
      "\n",
      "C:\\Users\\Sandalika\\Downloads\\OneDrive_2024-07-22\\Day 05\\kagglecatsanddogs_5340\\PetImages\\Dog\\1308.jpg OpenCV(4.10.0) D:\\a\\opencv-python\\opencv-python\\opencv\\modules\\imgproc\\src\\color.cpp:196: error: (-215:Assertion failed) !_src.empty() in function 'cv::cvtColor'\n",
      "\n",
      "C:\\Users\\Sandalika\\Downloads\\OneDrive_2024-07-22\\Day 05\\kagglecatsanddogs_5340\\PetImages\\Dog\\1866.jpg OpenCV(4.10.0) D:\\a\\opencv-python\\opencv-python\\opencv\\modules\\imgproc\\src\\color.cpp:196: error: (-215:Assertion failed) !_src.empty() in function 'cv::cvtColor'\n",
      "\n",
      "C:\\Users\\Sandalika\\Downloads\\OneDrive_2024-07-22\\Day 05\\kagglecatsanddogs_5340\\PetImages\\Dog\\2384.jpg OpenCV(4.10.0) D:\\a\\opencv-python\\opencv-python\\opencv\\modules\\imgproc\\src\\color.cpp:196: error: (-215:Assertion failed) !_src.empty() in function 'cv::cvtColor'\n",
      "\n",
      "C:\\Users\\Sandalika\\Downloads\\OneDrive_2024-07-22\\Day 05\\kagglecatsanddogs_5340\\PetImages\\Dog\\2688.jpg OpenCV(4.10.0) D:\\a\\opencv-python\\opencv-python\\opencv\\modules\\imgproc\\src\\color.cpp:196: error: (-215:Assertion failed) !_src.empty() in function 'cv::cvtColor'\n",
      "\n",
      "C:\\Users\\Sandalika\\Downloads\\OneDrive_2024-07-22\\Day 05\\kagglecatsanddogs_5340\\PetImages\\Dog\\2877.jpg OpenCV(4.10.0) D:\\a\\opencv-python\\opencv-python\\opencv\\modules\\imgproc\\src\\color.cpp:196: error: (-215:Assertion failed) !_src.empty() in function 'cv::cvtColor'\n",
      "\n",
      "C:\\Users\\Sandalika\\Downloads\\OneDrive_2024-07-22\\Day 05\\kagglecatsanddogs_5340\\PetImages\\Dog\\3136.jpg OpenCV(4.10.0) D:\\a\\opencv-python\\opencv-python\\opencv\\modules\\imgproc\\src\\color.cpp:196: error: (-215:Assertion failed) !_src.empty() in function 'cv::cvtColor'\n",
      "\n",
      "C:\\Users\\Sandalika\\Downloads\\OneDrive_2024-07-22\\Day 05\\kagglecatsanddogs_5340\\PetImages\\Dog\\3288.jpg OpenCV(4.10.0) D:\\a\\opencv-python\\opencv-python\\opencv\\modules\\imgproc\\src\\color.cpp:196: error: (-215:Assertion failed) !_src.empty() in function 'cv::cvtColor'\n",
      "\n",
      "C:\\Users\\Sandalika\\Downloads\\OneDrive_2024-07-22\\Day 05\\kagglecatsanddogs_5340\\PetImages\\Dog\\3588.jpg OpenCV(4.10.0) D:\\a\\opencv-python\\opencv-python\\opencv\\modules\\imgproc\\src\\color.cpp:196: error: (-215:Assertion failed) !_src.empty() in function 'cv::cvtColor'\n",
      "\n",
      "C:\\Users\\Sandalika\\Downloads\\OneDrive_2024-07-22\\Day 05\\kagglecatsanddogs_5340\\PetImages\\Dog\\4367.jpg OpenCV(4.10.0) D:\\a\\opencv-python\\opencv-python\\opencv\\modules\\imgproc\\src\\color.cpp:196: error: (-215:Assertion failed) !_src.empty() in function 'cv::cvtColor'\n",
      "\n",
      "C:\\Users\\Sandalika\\Downloads\\OneDrive_2024-07-22\\Day 05\\kagglecatsanddogs_5340\\PetImages\\Dog\\5604.jpg OpenCV(4.10.0) D:\\a\\opencv-python\\opencv-python\\opencv\\modules\\imgproc\\src\\color.cpp:196: error: (-215:Assertion failed) !_src.empty() in function 'cv::cvtColor'\n",
      "\n",
      "C:\\Users\\Sandalika\\Downloads\\OneDrive_2024-07-22\\Day 05\\kagglecatsanddogs_5340\\PetImages\\Dog\\5736.jpg OpenCV(4.10.0) D:\\a\\opencv-python\\opencv-python\\opencv\\modules\\imgproc\\src\\color.cpp:196: error: (-215:Assertion failed) !_src.empty() in function 'cv::cvtColor'\n",
      "\n",
      "C:\\Users\\Sandalika\\Downloads\\OneDrive_2024-07-22\\Day 05\\kagglecatsanddogs_5340\\PetImages\\Dog\\6059.jpg OpenCV(4.10.0) D:\\a\\opencv-python\\opencv-python\\opencv\\modules\\imgproc\\src\\color.cpp:196: error: (-215:Assertion failed) !_src.empty() in function 'cv::cvtColor'\n",
      "\n",
      "C:\\Users\\Sandalika\\Downloads\\OneDrive_2024-07-22\\Day 05\\kagglecatsanddogs_5340\\PetImages\\Dog\\6238.jpg OpenCV(4.10.0) D:\\a\\opencv-python\\opencv-python\\opencv\\modules\\imgproc\\src\\color.cpp:196: error: (-215:Assertion failed) !_src.empty() in function 'cv::cvtColor'\n",
      "\n",
      "C:\\Users\\Sandalika\\Downloads\\OneDrive_2024-07-22\\Day 05\\kagglecatsanddogs_5340\\PetImages\\Dog\\6718.jpg OpenCV(4.10.0) D:\\a\\opencv-python\\opencv-python\\opencv\\modules\\imgproc\\src\\color.cpp:196: error: (-215:Assertion failed) !_src.empty() in function 'cv::cvtColor'\n",
      "\n",
      "C:\\Users\\Sandalika\\Downloads\\OneDrive_2024-07-22\\Day 05\\kagglecatsanddogs_5340\\PetImages\\Dog\\7112.jpg OpenCV(4.10.0) D:\\a\\opencv-python\\opencv-python\\opencv\\modules\\imgproc\\src\\color.cpp:196: error: (-215:Assertion failed) !_src.empty() in function 'cv::cvtColor'\n",
      "\n",
      "C:\\Users\\Sandalika\\Downloads\\OneDrive_2024-07-22\\Day 05\\kagglecatsanddogs_5340\\PetImages\\Dog\\7133.jpg OpenCV(4.10.0) D:\\a\\opencv-python\\opencv-python\\opencv\\modules\\imgproc\\src\\color.cpp:196: error: (-215:Assertion failed) !_src.empty() in function 'cv::cvtColor'\n",
      "\n",
      "C:\\Users\\Sandalika\\Downloads\\OneDrive_2024-07-22\\Day 05\\kagglecatsanddogs_5340\\PetImages\\Dog\\7369.jpg OpenCV(4.10.0) D:\\a\\opencv-python\\opencv-python\\opencv\\modules\\imgproc\\src\\color.cpp:196: error: (-215:Assertion failed) !_src.empty() in function 'cv::cvtColor'\n",
      "\n",
      "C:\\Users\\Sandalika\\Downloads\\OneDrive_2024-07-22\\Day 05\\kagglecatsanddogs_5340\\PetImages\\Dog\\7459.jpg OpenCV(4.10.0) D:\\a\\opencv-python\\opencv-python\\opencv\\modules\\imgproc\\src\\color.cpp:196: error: (-215:Assertion failed) !_src.empty() in function 'cv::cvtColor'\n",
      "\n",
      "C:\\Users\\Sandalika\\Downloads\\OneDrive_2024-07-22\\Day 05\\kagglecatsanddogs_5340\\PetImages\\Dog\\7969.jpg OpenCV(4.10.0) D:\\a\\opencv-python\\opencv-python\\opencv\\modules\\imgproc\\src\\color.cpp:196: error: (-215:Assertion failed) !_src.empty() in function 'cv::cvtColor'\n",
      "\n",
      "C:\\Users\\Sandalika\\Downloads\\OneDrive_2024-07-22\\Day 05\\kagglecatsanddogs_5340\\PetImages\\Dog\\8730.jpg OpenCV(4.10.0) D:\\a\\opencv-python\\opencv-python\\opencv\\modules\\imgproc\\src\\color.cpp:196: error: (-215:Assertion failed) !_src.empty() in function 'cv::cvtColor'\n",
      "\n",
      "C:\\Users\\Sandalika\\Downloads\\OneDrive_2024-07-22\\Day 05\\kagglecatsanddogs_5340\\PetImages\\Dog\\9188.jpg OpenCV(4.10.0) D:\\a\\opencv-python\\opencv-python\\opencv\\modules\\imgproc\\src\\color.cpp:196: error: (-215:Assertion failed) !_src.empty() in function 'cv::cvtColor'\n",
      "\n",
      "C:\\Users\\Sandalika\\Downloads\\OneDrive_2024-07-22\\Day 05\\kagglecatsanddogs_5340\\PetImages\\Dog\\Thumbs.db OpenCV(4.10.0) D:\\a\\opencv-python\\opencv-python\\opencv\\modules\\imgproc\\src\\color.cpp:196: error: (-215:Assertion failed) !_src.empty() in function 'cv::cvtColor'\n",
      "\n"
     ]
    }
   ],
   "source": [
    "img_size=50\n",
    "data=[]\n",
    "target=[]\n",
    "for category in categories:\n",
    "    folder_path=os.path.join(datapath, category)\n",
    "    print(folder_path)\n",
    "    img_names=os.listdir(folder_path)\n",
    "    for img_name in img_names:\n",
    "        img_path=os.path.join(folder_path, img_name)\n",
    "        try:\n",
    "            img=cv2.imread(img_path)\n",
    "            gray = cv2.cvtColor(img, cv2.COLOR_BGR2GRAY)\n",
    "            resized = cv2.resize(gray,(img_size,img_size))\n",
    "            data.append(resized)\n",
    "            target.append(label_dict[category])\n",
    "        except Exception as e:\n",
    "            print(img_path, e)\n",
    "\n",
    "\n",
    "    "
   ]
  },
  {
   "cell_type": "code",
   "execution_count": 84,
   "id": "9e6fdd43-58da-4922-9c9c-ff23a406cad3",
   "metadata": {},
   "outputs": [
    {
     "name": "stdout",
     "output_type": "stream",
     "text": [
      "[[[171 180 186 ... 220 213 207]\n",
      "  [172 179 186 ... 220 215 211]\n",
      "  [171 179 181 ... 219 217 215]\n",
      "  ...\n",
      "  [133 137 140 ...   5   4   4]\n",
      "  [129 133 136 ...   3   3   3]\n",
      "  [126 130 134 ...   2   2   2]]\n",
      "\n",
      " [[ 44  60  41 ...  95  94 197]\n",
      "  [ 41  43  43 ...  93  80 192]\n",
      "  [ 41  40  46 ...  90  86 193]\n",
      "  ...\n",
      "  [ 25  21  26 ...  43  67  73]\n",
      "  [ 21  23  21 ...  74  36  89]\n",
      "  [ 23  22  20 ...  59  62  32]]\n",
      "\n",
      " [[ 45  48  53 ... 147 149 153]\n",
      "  [ 57  59  70 ... 152 150 156]\n",
      "  [ 59  64  59 ... 155 154 158]\n",
      "  ...\n",
      "  [159 155 136 ... 149 167 166]\n",
      "  [151 145 141 ... 146 166 169]\n",
      "  [149 134 132 ... 143 163 164]]\n",
      "\n",
      " ...\n",
      "\n",
      " [[ 48  55  54 ...  59  69  70]\n",
      "  [ 31  29  44 ...  54  60  70]\n",
      "  [ 42  55  40 ...  71  68  73]\n",
      "  ...\n",
      "  [121  94 129 ... 173 161 140]\n",
      "  [106 115  78 ... 176 152 178]\n",
      "  [ 80 141  94 ... 140  94 181]]\n",
      "\n",
      " [[253 239 207 ... 240 243 251]\n",
      "  [246 229 178 ... 227 175 205]\n",
      "  [232 158 107 ... 240 136 207]\n",
      "  ...\n",
      "  [ 79  73  70 ... 116 117 131]\n",
      "  [ 83  74  83 ... 128 122 131]\n",
      "  [ 86  80  85 ... 105 100 112]]\n",
      "\n",
      " [[243 244 240 ... 254 254 254]\n",
      "  [233 233 238 ... 251 253 253]\n",
      "  [249 244 252 ... 247 252 254]\n",
      "  ...\n",
      "  [ 71  63  63 ... 254 254 254]\n",
      "  [ 80  76  71 ... 254 254 254]\n",
      "  [ 79  76  79 ... 254 254 254]]] [0 0 0 ... 1 1 1]\n"
     ]
    }
   ],
   "source": [
    "#convert data and target into numpy array\n",
    "data=np.array(data)\n",
    "target=np.array(target)\n",
    "print(data, target)"
   ]
  },
  {
   "cell_type": "code",
   "execution_count": 56,
   "id": "f2105a8e-8987-4836-9014-948735363bd8",
   "metadata": {},
   "outputs": [
    {
     "name": "stdout",
     "output_type": "stream",
     "text": [
      "(24946, 50, 50) (24946,)\n"
     ]
    }
   ],
   "source": [
    "print(data.shape, target.shape)"
   ]
  },
  {
   "cell_type": "code",
   "execution_count": 80,
   "id": "bb1f8fa9-0086-445c-9394-c6373a526cbb",
   "metadata": {},
   "outputs": [
    {
     "data": {
      "text/plain": [
       "<matplotlib.image.AxesImage at 0x1e275155c50>"
      ]
     },
     "execution_count": 80,
     "metadata": {},
     "output_type": "execute_result"
    },
    {
     "data": {
      "image/png": "[encoded data removed]",
      "text/plain": [
       "<Figure size 640x480 with 1 Axes>"
      ]
     },
     "metadata": {},
     "output_type": "display_data"
    }
   ],
   "source": [
    "from matplotlib import pyplot as plt\n",
    "plt.imshow(data[10000], cmap='gray')"
   ]
  },
  {
   "cell_type": "code",
   "execution_count": 82,
   "id": "6b61efba-5885-41e8-aab0-4c39d74405c6",
   "metadata": {},
   "outputs": [
    {
     "data": {
      "text/plain": [
       "0"
      ]
     },
     "execution_count": 82,
     "metadata": {},
     "output_type": "execute_result"
    }
   ],
   "source": [
    "target[10000]"
   ]
  },
  {
   "cell_type": "code",
   "execution_count": 106,
   "id": "033d1fb4-da77-4ca2-9de0-d275346e4d10",
   "metadata": {},
   "outputs": [
    {
     "name": "stdout",
     "output_type": "stream",
     "text": [
      "(24946, 50, 50, 1)\n",
      "[[1. 0.]\n",
      " [1. 0.]\n",
      " [1. 0.]\n",
      " ...\n",
      " [0. 1.]\n",
      " [0. 1.]\n",
      " [0. 1.]]\n"
     ]
    }
   ],
   "source": [
    "#image normalizing\n",
    "data_new=data/255.0\n",
    "#sending te image as 4D\n",
    "data_new=data_new.reshape(data_new.shape[0],data_new.shape[1],data_new.shape[2],1)\n",
    "print(data_new.shape)\n",
    "#categorical encoding\n",
    "from tensorflow.keras.utils import to_categorical\n",
    "target_new=to_categorical(target)\n",
    "print(target_new)\n"
   ]
  },
  {
   "cell_type": "code",
   "execution_count": 110,
   "id": "7a237194-f1a2-4412-a02c-cdb8418297d6",
   "metadata": {},
   "outputs": [],
   "source": [
    "#data and target (gray scaled ones) are saved to a physical file\n",
    "data=np.save('data', data_new)\n",
    "target=np.save('target',target_new)"
   ]
  },
  {
   "cell_type": "code",
   "execution_count": null,
   "id": "8c7e229d-6ec6-426f-993b-568335d2f66b",
   "metadata": {},
   "outputs": [],
   "source": []
  }
 ],
 "metadata": {
  "kernelspec": {
   "display_name": "Python 3 (ipykernel)",
   "language": "python",
   "name": "python3"
  },
  "language_info": {
   "codemirror_mode": {
    "name": "ipython",
    "version": 3
   },
   "file_extension": ".py",
   "mimetype": "text/x-python",
   "name": "python",
   "nbconvert_exporter": "python",
   "pygments_lexer": "ipython3",
   "version": "3.11.7"
  }
 },
 "nbformat": 4,
 "nbformat_minor": 5
}
